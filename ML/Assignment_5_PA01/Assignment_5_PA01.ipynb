{
 "cells": [
  {
   "cell_type": "code",
   "execution_count": 1,
   "metadata": {},
   "outputs": [],
   "source": [
    "#importing libraries\n",
    "import numpy as np\n",
    "import pandas as pd\n",
    "from sklearn.neighbors import KNeighborsClassifier"
   ]
  },
  {
   "cell_type": "code",
   "execution_count": 2,
   "metadata": {},
   "outputs": [
    {
     "name": "stdout",
     "output_type": "stream",
     "text": [
      "Dataset :\n",
      "    Height  Age  Weight\n",
      "0    5.00   45      77\n",
      "1    5.11   26      47\n",
      "2    5.60   30      55\n",
      "3    5.90   34      59\n",
      "4    4.80   40      72\n",
      "5    5.80   36      60\n",
      "6    5.30   19      40\n",
      "7    5.80   28      60\n",
      "8    5.50   23      45\n",
      "9    5.60   32      58\n"
     ]
    }
   ],
   "source": [
    "data =  pd.read_csv('knn1.csv')\n",
    "print(f'Dataset :\\n {data}')"
   ]
  },
  {
   "cell_type": "code",
   "execution_count": 4,
   "metadata": {},
   "outputs": [
    {
     "name": "stdout",
     "output_type": "stream",
     "text": [
      "X :\n",
      "[[ 5.   45.  ]\n",
      " [ 5.11 26.  ]\n",
      " [ 5.6  30.  ]\n",
      " [ 5.9  34.  ]\n",
      " [ 4.8  40.  ]\n",
      " [ 5.8  36.  ]\n",
      " [ 5.3  19.  ]\n",
      " [ 5.8  28.  ]\n",
      " [ 5.5  23.  ]\n",
      " [ 5.6  32.  ]]\n",
      "\n",
      " y :\n",
      "[77 47 55 59 72 60 40 60 45 58]\n"
     ]
    }
   ],
   "source": [
    "X = data.iloc[:, :-1].values\n",
    "y = data.iloc[:, 2].values\n",
    "print(\n",
    "    f'X :\\n{X}\\n\\n',\n",
    "    f'y :\\n{y}'\n",
    ")"
   ]
  },
  {
   "cell_type": "code",
   "execution_count": 10,
   "metadata": {},
   "outputs": [
    {
     "name": "stdout",
     "output_type": "stream",
     "text": [
      "For hieght 5.5 and age 26.0, predicted weight is 45\n"
     ]
    }
   ],
   "source": [
    "classifier1 = KNeighborsClassifier(n_neighbors=3)\n",
    "classifier1.fit(X,y)\n",
    "X_test1 = np.array(\n",
    "    [\n",
    "        [5.50, 26]\n",
    "    ]\n",
    ")\n",
    "y_predict1 = classifier1.predict(X_test1)\n",
    "print(\n",
    "    f'For hieght {X_test1[0][0]} and age {X_test1[0][1]}, predicted weight is {y_predict1[0]}'\n",
    ")"
   ]
  },
  {
   "cell_type": "code",
   "execution_count": 14,
   "metadata": {},
   "outputs": [
    {
     "name": "stdout",
     "output_type": "stream",
     "text": [
      "For hieght 5.5 and age 26.0, predicted weight is 40\n"
     ]
    }
   ],
   "source": [
    "classifier2 = KNeighborsClassifier(n_neighbors=6)\n",
    "classifier2.fit(X,y)\n",
    "X_test2 = np.array(\n",
    "    [\n",
    "        [5.50, 26]\n",
    "    ]\n",
    ")\n",
    "y_predict2 = classifier2.predict(X_test2)\n",
    "print(\n",
    "    f'For hieght {X_test2[0][0]} and age {X_test2[0][1]}, predicted weight is {y_predict2[0]}'\n",
    ")"
   ]
  }
 ],
 "metadata": {
  "kernelspec": {
   "display_name": "Python 3",
   "language": "python",
   "name": "python3"
  },
  "language_info": {
   "codemirror_mode": {
    "name": "ipython",
    "version": 3
   },
   "file_extension": ".py",
   "mimetype": "text/x-python",
   "name": "python",
   "nbconvert_exporter": "python",
   "pygments_lexer": "ipython3",
   "version": "3.8.2"
  }
 },
 "nbformat": 4,
 "nbformat_minor": 2
}
